{
  "nbformat": 4,
  "nbformat_minor": 0,
  "metadata": {
    "colab": {
      "name": "Set Tensorflow, Keras",
      "provenance": [],
      "collapsed_sections": []
    },
    "kernelspec": {
      "name": "python3",
      "display_name": "Python 3"
    }
  },
  "cells": [
    {
      "cell_type": "code",
      "execution_count": 1,
      "metadata": {
        "colab": {
          "base_uri": "https://localhost:8080/",
          "height": 391
        },
        "colab_type": "code",
        "id": "MlGudPGdzLng",
        "outputId": "c7f96cbd-2dae-4f20-8b21-d396694c4763"
      },
      "outputs": [
        {
          "name": "stdout",
          "output_type": "stream",
          "text": [
            "`%tensorflow_version` only switches the major version: `1.x` or `2.x`.\n",
            "You set: `1.x . # helps the instance configure right CUDA, GPU libraries`. This will be interpreted as: `1.x`.\n",
            "\n",
            "\n",
            "TensorFlow 1.x selected.\n",
            "Requirement already satisfied: tensorflow==1.10.1 in /usr/local/lib/python3.6/dist-packages (1.10.1)\n",
            "Requirement already satisfied: setuptools<=39.1.0 in /usr/local/lib/python3.6/dist-packages (from tensorflow==1.10.1) (39.1.0)\n",
            "Requirement already satisfied: termcolor>=1.1.0 in /usr/local/lib/python3.6/dist-packages (from tensorflow==1.10.1) (1.1.0)\n",
            "Requirement already satisfied: astor>=0.6.0 in /usr/local/lib/python3.6/dist-packages (from tensorflow==1.10.1) (0.8.1)\n",
            "Requirement already satisfied: gast>=0.2.0 in /usr/local/lib/python3.6/dist-packages (from tensorflow==1.10.1) (0.2.2)\n",
            "Requirement already satisfied: grpcio>=1.8.6 in /usr/local/lib/python3.6/dist-packages (from tensorflow==1.10.1) (1.15.0)\n",
            "Requirement already satisfied: tensorboard<1.11.0,>=1.10.0 in /usr/local/lib/python3.6/dist-packages (from tensorflow==1.10.1) (1.10.0)\n",
            "Requirement already satisfied: protobuf>=3.6.0 in /usr/local/lib/python3.6/dist-packages (from tensorflow==1.10.1) (3.10.0)\n",
            "Requirement already satisfied: six>=1.10.0 in /usr/local/lib/python3.6/dist-packages (from tensorflow==1.10.1) (1.12.0)\n",
            "Requirement already satisfied: numpy<=1.14.5,>=1.13.3 in /usr/local/lib/python3.6/dist-packages (from tensorflow==1.10.1) (1.14.5)\n",
            "Requirement already satisfied: absl-py>=0.1.6 in /usr/local/lib/python3.6/dist-packages (from tensorflow==1.10.1) (0.9.0)\n",
            "Requirement already satisfied: wheel>=0.26 in /usr/local/lib/python3.6/dist-packages (from tensorflow==1.10.1) (0.33.6)\n",
            "Requirement already satisfied: markdown>=2.6.8 in /usr/local/lib/python3.6/dist-packages (from tensorboard<1.11.0,>=1.10.0->tensorflow==1.10.1) (3.1.1)\n",
            "Requirement already satisfied: werkzeug>=0.11.10 in /usr/local/lib/python3.6/dist-packages (from tensorboard<1.11.0,>=1.10.0->tensorflow==1.10.1) (0.16.0)\n",
            "Using Python:  3.6.9\n",
            "Using Tensorflow:  1.10.1\n",
            "Using Keras:  2.1.6-tf\n"
          ]
        }
      ],
      "source": [
        "# Google Colab wants to use newer Keras 2, Tensorflow 2 but this\n",
        "# notebook was written against older version, with the experiments\n",
        "# run in 8/2018 (per author)\n",
        "\n",
        "# This suggests Tensorflow v.1.9.0 (7/18) - v.1.10.0 (8/7), v.1.10.1 (8/23)\n",
        "# This suggests Keras 2.2.2 (7/28/18) - 2.2.3 10/1/18\n",
        "\n",
        "# For available Tensorflow versions, see: https://www.tensorflow.org/versions\n",
        "# For a list of compatiable Tensorflow/Keras environments see: https://docs.floydhub.com/guides/environments/\n",
        "\n",
        "# Let's try to install \n",
        "%tensorflow_version 1.x . # helps the instance configure right CUDA, GPU libraries\n",
        "!pip install tensorflow==1.10.1\n",
        "\n",
        "import tensorflow\n",
        "import platform\n",
        "print(\"Using Python: \", platform.python_version())\n",
        "print(\"Using Tensorflow: \", tensorflow.__version__)\n",
        "\n",
        "from tensorflow import keras\n",
        "print(\"Using Keras: \", keras.__version__)  # note 2.2.0-3 but let's see if this works"
      ]
    },
    {
      "cell_type": "code",
      "execution_count": 2,
      "metadata": {
        "colab": {
          "base_uri": "https://localhost:8080/",
          "height": 374
        },
        "colab_type": "code",
        "id": "_cviHGDL03Gs",
        "outputId": "275d1c99-9eca-4588-b567-214ddd289771"
      },
      "outputs": [
        {
          "name": "stdout",
          "output_type": "stream",
          "text": [
            "Requirement already satisfied: fuel in /usr/local/lib/python3.6/dist-packages (0.2.0)\n",
            "Requirement already satisfied: pyyaml in /usr/local/lib/python3.6/dist-packages (from fuel) (3.13)\n",
            "Requirement already satisfied: numpy in /usr/local/lib/python3.6/dist-packages (from fuel) (1.14.5)\n",
            "Requirement already satisfied: pyzmq in /usr/local/lib/python3.6/dist-packages (from fuel) (17.0.0)\n",
            "Requirement already satisfied: h5py in /usr/local/lib/python3.6/dist-packages (from fuel) (2.8.0)\n",
            "Requirement already satisfied: requests in /usr/local/lib/python3.6/dist-packages (from fuel) (2.21.0)\n",
            "Requirement already satisfied: picklable-itertools in /usr/local/lib/python3.6/dist-packages (from fuel) (0.1.1)\n",
            "Requirement already satisfied: tables in /usr/local/lib/python3.6/dist-packages (from fuel) (3.4.4)\n",
            "Requirement already satisfied: progressbar2 in /usr/local/lib/python3.6/dist-packages (from fuel) (3.38.0)\n",
            "Requirement already satisfied: scipy in /usr/local/lib/python3.6/dist-packages (from fuel) (1.4.1)\n",
            "Requirement already satisfied: six in /usr/local/lib/python3.6/dist-packages (from fuel) (1.12.0)\n",
            "Requirement already satisfied: pillow in /usr/local/lib/python3.6/dist-packages (from fuel) (6.2.2)\n",
            "Requirement already satisfied: certifi>=2017.4.17 in /usr/local/lib/python3.6/dist-packages (from requests->fuel) (2019.11.28)\n",
            "Requirement already satisfied: idna<2.9,>=2.5 in /usr/local/lib/python3.6/dist-packages (from requests->fuel) (2.8)\n",
            "Requirement already satisfied: urllib3<1.25,>=1.21.1 in /usr/local/lib/python3.6/dist-packages (from requests->fuel) (1.24.3)\n",
            "Requirement already satisfied: chardet<3.1.0,>=3.0.2 in /usr/local/lib/python3.6/dist-packages (from requests->fuel) (3.0.4)\n",
            "Requirement already satisfied: numexpr>=2.5.2 in /usr/local/lib/python3.6/dist-packages (from tables->fuel) (2.7.1)\n",
            "Requirement already satisfied: python-utils>=2.3.0 in /usr/local/lib/python3.6/dist-packages (from progressbar2->fuel) (2.3.0)\n",
            "Requirement already satisfied: picklable_itertools in /usr/local/lib/python3.6/dist-packages (0.1.1)\n",
            "Requirement already satisfied: six in /usr/local/lib/python3.6/dist-packages (from picklable_itertools) (1.12.0)\n",
            "Mounted at /content/drive\n"
          ]
        }
      ],
      "source": [
        "#  Set up project wide related configration, libraries, mount data directory\n",
        "from google.colab import drive\n",
        "import platform\n",
        "import sys,os\n",
        "import numpy as np\n",
        "\n",
        "!pip install fuel\n",
        "!pip install picklable_itertools\n",
        "%matplotlib inline\n",
        "\n",
        "PROJECT_DIR = \"/content/drive/My Drive/Dr Eglash/Kente_Cloth_Authentication/oc-nn\"\n",
        "\n",
        "sys.path.append(PROJECT_DIR)\n",
        "\n",
        "drive.mount('/content/drive', force_remount=True)  # <-- requires user interaction"
      ]
    },
    {
      "cell_type": "code",
      "execution_count": 27,
      "metadata": {
        "colab": {
          "base_uri": "https://localhost:8080/",
          "height": 785
        },
        "colab_type": "code",
        "id": "MCXJ2NH92akD",
        "outputId": "f8b7205c-4ba8-4167-b472-d8b370926196"
      },
      "outputs": [
        {
          "name": "stdout",
          "output_type": "stream",
          "text": [
            "OneClass_SVDD.RESULT_PATH: /content/drive/My Drive/Dr Eglash/Kente_Cloth_Authentication/oc-nn/reports/figures/MNIST/OC_NN/\n",
            "Inside the MNIST_DataLoader RCAE.RESULT_PATH: /content/drive/My Drive/Dr Eglash/Kente_Cloth_Authentication/oc-nn/reports/figures/MNIST/RCAE/\n",
            "[INFO: ] Loading data...\n",
            "[INFO:] The  label  of normal points are  0\n",
            "[INFO:] Random Seed used is   42\n",
            "[INFO: ] Data loaded.\n",
            "[INFO:] Assertions of memory muted\n",
            "Inside the MNIST_DataLoader RCAE.RESULT_PATH: /content/drive/My Drive/Dr Eglash/Kente_Cloth_Authentication/oc-nn/reports/figures/MNIST/RCAE/\n",
            "[INFO: ] Loading data...\n",
            "[INFO:] The  label  of normal points are  0\n",
            "[INFO:] Random Seed used is   42\n",
            "[INFO: ] Data loaded.\n",
            "[INFO:] Testing with ALL other  DIGITs  as anomalies\n",
            "[INFO: ] Shape of One Class Input Data used in training (5975, 28, 28, 1)\n",
            "[INFO: ] Shape of (Positive) One Class Input Data used in training (5916, 28, 28, 1)\n",
            "[INFO: ] Shape of (Negative) One Class Input Data used in training (59, 28, 28, 1)\n",
            "[ INFO ] : The shape of Xtrain is  (4986, 28, 28, 1)\n",
            "Learning dictionary for weight initialization...\n",
            "[dict_learning] .+++++++.+++......................................................................................................................................................................................................................................................................................................................................................................................................................................................................................................................................................................................................................................................................................................................................................................................................................................................................................................................................................................................................................................Dictionary learned.\n",
            "[INFO:] The shape of X used to train CAE (4986, 28, 28, 1)\n",
            "[INFO:] The shape of self.data._X_train (4986, 28, 28, 1)\n",
            "[INFO:] The shape of self.data._X_test (10000, 28, 28, 1)\n",
            "INFO: Autoencoder training completed for mnist....\n",
            "[INFO:] Obtained the initial representations of input using pretrained weights \n",
            "[INFO:] Initializing c and Radius R value...\n",
            "[INFO:] Radius (R)  initialized. 2.222926340673233\n",
            "[INFO:] Hyperplane Loss function.....\n",
            "[INFO:] \n",
            " Model compiled  Outside CB: Updated Radius Value... 0.030050979969132585\n",
            "==============PREDICTING THE LABELS ==============================\n",
            "[INFO: ] Shape of One Class Input Data used in testing (5975, 28, 28, 1)\n",
            "[INFO: ] Shape of (Positive) One Class Input Data used in testing (5916, 28, 28, 1)\n",
            "[INFO: ] Shape of (Negative) One Class Input Data used in testing (59, 28, 28, 1)\n",
            "[INFO:] Saving Anomalies Found at .. /content/drive/My Drive/Dr Eglash/Kente_Cloth_Authentication/oc-nn/reports/figures/MNIST/OC_NN/\n",
            "[INFO:] Saving Anomalies Found at .. /content/drive/My Drive/Dr Eglash/Kente_Cloth_Authentication/oc-nn/reports/figures/MNIST/OC_NN/\n",
            "[INFO:] Final Rvar used is  0.030050979969132585\n",
            "[INFO:] One Class Neural Network Algorithm\n",
            "===================================\n",
            "[INFO:]  AUROC: Oneclass Neural Network (OCNN) .... 0.9702902785895188\n",
            "===================================\n",
            "===========TRAINING AND PREDICTING WITH OCSVDD============================\n",
            "AUROC computed  [0.9702902785895188]\n",
            "AUROC ===== 0.9702902785895188 +/- 0.0\n",
            "========================================================================\n"
          ]
        }
      ],
      "source": [
        "# Kick off train, test loop for one class nueral net with one class loss\n",
        "%reload_ext autoreload\n",
        "%autoreload 2\n",
        "\n",
        "from src.models.config import Configuration as Cfg\n",
        "from src.models.OneClass_SVDD import OneClass_SVDD\n",
        "\n",
        "# I don't think I need this\n",
        "#import os\n",
        "#os.chdir(PROJECT_DIR)\n",
        "\n",
        "DATASET = \"kente\"\n",
        "IMG_DIM= 784\n",
        "IMG_HGT =28\n",
        "IMG_WDT=28\n",
        "IMG_CHANNEL=1\n",
        "HIDDEN_LAYER_SIZE= 32\n",
        "MODEL_SAVE_PATH = PROJECT_DIR + \"/models/KENTE/OC_NN/\"\n",
        "REPORT_SAVE_PATH = PROJECT_DIR + \"/reports/figures/KENTE/OC_NN/\"\n",
        "PRETRAINED_WT_PATH = \"\"\n",
        "LOSS_FUNCTION = \"ONE_CLASS_NEURAL_NETWORK\"\n",
        "\n",
        "RANDOM_SEED = [42,56,81,67,33,25,90,77,15,11]\n",
        "RANDOM_SEED = [42]  # for inital test\n",
        "AUC = []\n",
        "\n",
        "for seed in RANDOM_SEED:  \n",
        "  Cfg.seed = seed\n",
        "  ocnn = OneClass_SVDD(DATASET,LOSS_FUNCTION,IMG_DIM, HIDDEN_LAYER_SIZE, IMG_HGT, IMG_WDT,IMG_CHANNEL, MODEL_SAVE_PATH, REPORT_SAVE_PATH,PRETRAINED_WT_PATH,seed)\n",
        "  \n",
        "  print(\"[INFO:] Testing with ALL other  DIGITs  as anomalies\")\n",
        "  ocnn.fit()\n",
        "  print(\"==============PREDICTING THE LABELS ==============================\")\n",
        "  auc_score = ocnn.predict()\n",
        "  AUC.append(auc_score)\n",
        "\n",
        "print(\"===========TRAINING AND PREDICTING WITH OCSVDD============================\")\n",
        "print(\"AUROC computed \", AUC)\n",
        "auc_roc_mean = np.mean(np.asarray(AUC))\n",
        "auc_roc_std = np.std(np.asarray(AUC))\n",
        "print (\"AUROC =====\", auc_roc_mean ,\"+/-\",auc_roc_std)\n",
        "print(\"========================================================================\")"
      ]
    }
  ]
}